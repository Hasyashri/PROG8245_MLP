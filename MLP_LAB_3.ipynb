{
 "cells": [
  {
   "cell_type": "markdown",
   "id": "b9c231a0",
   "metadata": {},
   "source": [
    "># Lab -3 Data Engineering & Exploratory Data Analysis (EDA) Workshop\n",
    "\n",
    "**Student Name:** `Hasyashri Bhatt`\n",
    "\n",
    "**Student Number:**`9028501`\n",
    "\n",
    "**Course:**`Machine Learning Programming(PROG8245)`\n",
    "\n",
    "**Reference:** For the coding understanding and reference I used chatgpt,copilot and W3School.com\n",
    "---"
   ]
  },
  {
   "cell_type": "markdown",
   "id": "81a80a82",
   "metadata": {},
   "source": [
    "**Introduction:**\n",
    "\n",
    "This lab focuses on practical data engineering and exploratory data analysis (EDA) using Python, SQL, and cloud-based infrastructure. We connect to a PostgreSQL database hosted on Neon.tech, populate it with synthetic employee data, and then perform a series of data processing and analytical tasks using the Pandas library. The aim is to simulate a real-world scenario where data must be collected, cleaned, transformed, and visualized to extract meaningful business insights.\n",
    "\n",
    "---"
   ]
  },
  {
   "cell_type": "markdown",
   "id": "7027a189",
   "metadata": {},
   "source": [
    "**Objective:**\n",
    "\n",
    "1.Set up a free PostgreSQL cloud database on Neon.tech\n",
    "\n",
    "2.Generate and insert synthetic employee data using the Faker library\n",
    "\n",
    "3.Connect to the database with Psycopg2 and SQLAlchemy\n",
    "\n",
    "4.Load data into a Pandas DataFrame and perform:\n",
    "\n",
    "         - Data cleaning and transformation\n",
    "\n",
    "         - Feature engineering (e.g., calculating years of service)\n",
    "\n",
    "         - Scaling numeric data\n",
    "\n",
    "5.Create and interpret two visualizations:\n",
    "\n",
    "         - A grouped bar chart (salary by position and start year)\n",
    "\n",
    "         - An advanced heatmap using joined department data\n",
    "\n",
    "---         "
   ]
  },
  {
   "cell_type": "markdown",
   "id": "d2079e2c",
   "metadata": {},
   "source": [
    "\n",
    "> ## **1. Data Collection**\n",
    "--- "
   ]
  },
  {
   "cell_type": "markdown",
   "id": "00cfbe83",
   "metadata": {},
   "source": [
    "I created a free cloud database using `Neon.tech`, a service that provides a PostgreSQL database without needing a credit card.In the database, we created a table named employees. It contains the following information:\n",
    "\n",
    "`employee_id:` A unique ID for each employee\n",
    "\n",
    "`name:` The employee's full name\n",
    "\n",
    "`position:` Their job title (all in IT field)\n",
    "\n",
    "`start_date:` The year they joined the company (between 2015–2024)\n",
    "\n",
    "`salary:` Their annual salary (ranging from $60,000 to $200,000)\n",
    "\n",
    " I used a library called psycopg2 to connect Python to the cloud database and Pandas to bring the data into a format we can analyze.\n",
    "\n",
    "---"
   ]
  },
  {
   "cell_type": "code",
   "execution_count": 7,
   "id": "f4ad420f",
   "metadata": {},
   "outputs": [
    {
     "name": "stdout",
     "output_type": "stream",
     "text": [
      "Collecting psycopg2-binary\n",
      "  Downloading psycopg2_binary-2.9.10-cp312-cp312-win_amd64.whl.metadata (5.0 kB)\n",
      "Downloading psycopg2_binary-2.9.10-cp312-cp312-win_amd64.whl (1.2 MB)\n",
      "   ---------------------------------------- 0.0/1.2 MB ? eta -:--:--\n",
      "   ------------------ --------------------- 0.5/1.2 MB 4.2 MB/s eta 0:00:01\n",
      "   --------------------------- ------------ 0.8/1.2 MB 2.6 MB/s eta 0:00:01\n",
      "   ---------------------------------------- 1.2/1.2 MB 2.2 MB/s eta 0:00:00\n",
      "Installing collected packages: psycopg2-binary\n",
      "Successfully installed psycopg2-binary-2.9.10\n",
      "Note: you may need to restart the kernel to use updated packages.\n"
     ]
    },
    {
     "name": "stderr",
     "output_type": "stream",
     "text": [
      "\n",
      "[notice] A new release of pip is available: 24.2 -> 25.1.1\n",
      "[notice] To update, run: python.exe -m pip install --upgrade pip\n"
     ]
    }
   ],
   "source": [
    "# Installing necessary packages for PostgreSQL and data generation\n",
    "%pip install psycopg2-binary"
   ]
  },
  {
   "cell_type": "code",
   "execution_count": 2,
   "id": "5a6f57f3",
   "metadata": {},
   "outputs": [
    {
     "name": "stdout",
     "output_type": "stream",
     "text": [
      "Collecting faker\n",
      "  Using cached faker-37.3.0-py3-none-any.whl.metadata (15 kB)\n",
      "Collecting tzdata (from faker)\n",
      "  Using cached tzdata-2025.2-py2.py3-none-any.whl.metadata (1.4 kB)\n",
      "Using cached faker-37.3.0-py3-none-any.whl (1.9 MB)\n",
      "Using cached tzdata-2025.2-py2.py3-none-any.whl (347 kB)\n",
      "Installing collected packages: tzdata, faker\n",
      "Successfully installed faker-37.3.0 tzdata-2025.2\n",
      "Note: you may need to restart the kernel to use updated packages.\n"
     ]
    },
    {
     "name": "stderr",
     "output_type": "stream",
     "text": [
      "\n",
      "[notice] A new release of pip is available: 24.2 -> 25.1.1\n",
      "[notice] To update, run: python.exe -m pip install --upgrade pip\n"
     ]
    }
   ],
   "source": [
    "%pip install faker"
   ]
  },
  {
   "cell_type": "code",
   "execution_count": 8,
   "id": "0f630ac2",
   "metadata": {},
   "outputs": [],
   "source": [
    "# Importing necessary libraries\n",
    "import random\n",
    "from faker import Faker\n",
    "from datetime import date # Import the date object\n",
    "import psycopg2"
   ]
  },
  {
   "cell_type": "markdown",
   "id": "57f2d097",
   "metadata": {},
   "source": [
    "**After this,I used a Python library called Faker to create 50 fake (but realistic) employee records. These records were then inserted into the cloud database manually copy and pasting in the SQL editor to create Employee table with 50 fake data.**\n",
    "\n",
    "`**Note:**` Below data changes everytime when we run the code but When I run this for the first time I copy-pasted that data in the Cloud database called `Neon.tech`,So my all result will include that database entries not the current one.\n"
   ]
  },
  {
   "cell_type": "code",
   "execution_count": 10,
   "id": "36f8489c",
   "metadata": {},
   "outputs": [
    {
     "name": "stdout",
     "output_type": "stream",
     "text": [
      "INSERT INTO employees (name, position, start_date, salary) VALUES ('Patrick Smith', 'SysAdmin', '2021-12-27', 113618);\n",
      "INSERT INTO employees (name, position, start_date, salary) VALUES ('Juan Maddox', 'SysAdmin', '2023-07-21', 121114);\n",
      "INSERT INTO employees (name, position, start_date, salary) VALUES ('Juan Ortiz', 'Data Analyst', '2022-04-21', 72008);\n",
      "INSERT INTO employees (name, position, start_date, salary) VALUES ('Roberta Hudson', 'Software Engineer', '2018-12-22', 74096);\n",
      "INSERT INTO employees (name, position, start_date, salary) VALUES ('Connie Lopez', 'Backend Developer', '2015-12-14', 65219);\n",
      "INSERT INTO employees (name, position, start_date, salary) VALUES ('Mrs. Christina Jones MD', 'Frontend Developer', '2020-05-21', 72869);\n",
      "INSERT INTO employees (name, position, start_date, salary) VALUES ('Nicholas Blair', 'QA Engineer', '2015-07-13', 170677);\n",
      "INSERT INTO employees (name, position, start_date, salary) VALUES ('Patricia Rodriguez', 'ML Engineer', '2017-05-12', 172558);\n",
      "INSERT INTO employees (name, position, start_date, salary) VALUES ('Troy Baker', 'Cloud Architect', '2016-07-27', 95219);\n",
      "INSERT INTO employees (name, position, start_date, salary) VALUES ('Samuel Peterson', 'SysAdmin', '2018-07-08', 114544);\n",
      "INSERT INTO employees (name, position, start_date, salary) VALUES ('Scott Day', 'QA Engineer', '2022-10-10', 181623);\n",
      "INSERT INTO employees (name, position, start_date, salary) VALUES ('William Brennan', 'ML Engineer', '2019-09-13', 163959);\n",
      "INSERT INTO employees (name, position, start_date, salary) VALUES ('Diana Rodriguez', 'ML Engineer', '2024-01-14', 70147);\n",
      "INSERT INTO employees (name, position, start_date, salary) VALUES ('Kyle Lee', 'Software Engineer', '2023-03-20', 171994);\n",
      "INSERT INTO employees (name, position, start_date, salary) VALUES ('David Roach', 'Data Scientist', '2018-03-19', 118746);\n",
      "INSERT INTO employees (name, position, start_date, salary) VALUES ('Catherine Willis', 'Backend Developer', '2016-09-21', 124149);\n",
      "INSERT INTO employees (name, position, start_date, salary) VALUES ('Lisa Vaughn', 'SysAdmin', '2016-06-14', 87215);\n",
      "INSERT INTO employees (name, position, start_date, salary) VALUES ('Russell Murray', 'Data Scientist', '2020-07-21', 159261);\n",
      "INSERT INTO employees (name, position, start_date, salary) VALUES ('Bryan Lane', 'Frontend Developer', '2017-03-31', 61184);\n",
      "INSERT INTO employees (name, position, start_date, salary) VALUES ('John Hernandez', 'Frontend Developer', '2016-06-12', 73266);\n",
      "INSERT INTO employees (name, position, start_date, salary) VALUES ('Patrick Farrell', 'Software Engineer', '2018-10-30', 141963);\n",
      "INSERT INTO employees (name, position, start_date, salary) VALUES ('Bailey Baldwin', 'Cloud Architect', '2016-07-11', 77110);\n",
      "INSERT INTO employees (name, position, start_date, salary) VALUES ('Anthony Powers', 'Data Analyst', '2018-06-29', 105015);\n",
      "INSERT INTO employees (name, position, start_date, salary) VALUES ('Keith Miller', 'ML Engineer', '2018-06-21', 199662);\n",
      "INSERT INTO employees (name, position, start_date, salary) VALUES ('John Blair', 'Data Scientist', '2017-12-04', 126452);\n",
      "INSERT INTO employees (name, position, start_date, salary) VALUES ('David Bates', 'QA Engineer', '2018-04-03', 83106);\n",
      "INSERT INTO employees (name, position, start_date, salary) VALUES ('Crystal Lowery', 'QA Engineer', '2017-01-13', 74830);\n",
      "INSERT INTO employees (name, position, start_date, salary) VALUES ('Nicole Alvarez', 'DevOps Engineer', '2023-07-26', 176831);\n",
      "INSERT INTO employees (name, position, start_date, salary) VALUES ('Kelly Johnson', 'QA Engineer', '2022-08-08', 161012);\n",
      "INSERT INTO employees (name, position, start_date, salary) VALUES ('Kimberly Diaz', 'Frontend Developer', '2015-06-16', 120192);\n",
      "INSERT INTO employees (name, position, start_date, salary) VALUES ('Christopher Ramirez', 'ML Engineer', '2017-07-27', 151250);\n",
      "INSERT INTO employees (name, position, start_date, salary) VALUES ('Tiffany Warren', 'DevOps Engineer', '2015-10-30', 182334);\n",
      "INSERT INTO employees (name, position, start_date, salary) VALUES ('Amber Wilson', 'Data Scientist', '2024-03-28', 77332);\n",
      "INSERT INTO employees (name, position, start_date, salary) VALUES ('Stephen Thompson', 'QA Engineer', '2019-04-09', 64443);\n",
      "INSERT INTO employees (name, position, start_date, salary) VALUES ('Christopher Salinas', 'Data Scientist', '2022-05-28', 189363);\n",
      "INSERT INTO employees (name, position, start_date, salary) VALUES ('Meredith Vance', 'Backend Developer', '2016-11-23', 122135);\n",
      "INSERT INTO employees (name, position, start_date, salary) VALUES ('Leonard Taylor MD', 'Backend Developer', '2023-06-20', 144490);\n",
      "INSERT INTO employees (name, position, start_date, salary) VALUES ('Dr. Emily Fox', 'SysAdmin', '2022-11-10', 176129);\n",
      "INSERT INTO employees (name, position, start_date, salary) VALUES ('Tammy Dalton', 'Cloud Architect', '2020-03-12', 106592);\n",
      "INSERT INTO employees (name, position, start_date, salary) VALUES ('Megan Singh', 'Data Scientist', '2021-03-22', 75773);\n",
      "INSERT INTO employees (name, position, start_date, salary) VALUES ('Gregory Carroll', 'Backend Developer', '2015-03-05', 191795);\n",
      "INSERT INTO employees (name, position, start_date, salary) VALUES ('Jeremy Dillon', 'SysAdmin', '2020-03-01', 181383);\n",
      "INSERT INTO employees (name, position, start_date, salary) VALUES ('Joanne King', 'Frontend Developer', '2018-06-25', 101011);\n",
      "INSERT INTO employees (name, position, start_date, salary) VALUES ('Angela King', 'DevOps Engineer', '2020-03-06', 114981);\n",
      "INSERT INTO employees (name, position, start_date, salary) VALUES ('Alyssa Hill', 'Backend Developer', '2018-01-18', 73245);\n",
      "INSERT INTO employees (name, position, start_date, salary) VALUES ('Christopher Larson', 'DevOps Engineer', '2021-06-14', 86180);\n",
      "INSERT INTO employees (name, position, start_date, salary) VALUES ('Daniel Cardenas', 'Frontend Developer', '2015-01-11', 127826);\n",
      "INSERT INTO employees (name, position, start_date, salary) VALUES ('Jake Edwards', 'Data Analyst', '2015-03-14', 164460);\n",
      "INSERT INTO employees (name, position, start_date, salary) VALUES ('Mary Morrow', 'Data Scientist', '2021-05-19', 66070);\n",
      "INSERT INTO employees (name, position, start_date, salary) VALUES ('Jennifer Adams', 'ML Engineer', '2019-09-23', 174940);\n"
     ]
    }
   ],
   "source": [
    "fake = Faker()\n",
    "\n",
    "positions = [\n",
    "    'Software Engineer', 'Data Analyst', 'DevOps Engineer', 'ML Engineer', 'QA Engineer',\n",
    "    'Backend Developer', 'Frontend Developer', 'Cloud Architect', 'SysAdmin', 'Data Scientist'\n",
    "]\n",
    "\n",
    "# Convert date strings to date objects\n",
    "start_date_obj = date(2015, 1, 1)\n",
    "end_date_obj = date(2024, 6, 1)\n",
    "\n",
    "for i in range(50):\n",
    "    name = fake.name().replace(\"'\", \"''\")  # Escape single quotes in names\n",
    "    position = random.choice(positions)\n",
    "    #Pass date objects to date_between\n",
    "    start_date = fake.date_between(start_date=start_date_obj, end_date=end_date_obj)\n",
    "    salary = random.randint(60000, 200000)\n",
    "\n",
    "    print(f\"INSERT INTO employees (name, position, start_date, salary) VALUES ('{name}', '{position}', '{start_date}', {salary});\")\n"
   ]
  },
  {
   "cell_type": "code",
   "execution_count": null,
   "id": "191a0cc3",
   "metadata": {},
   "outputs": [],
   "source": []
  }
 ],
 "metadata": {
  "kernelspec": {
   "display_name": "venv",
   "language": "python",
   "name": "python3"
  },
  "language_info": {
   "codemirror_mode": {
    "name": "ipython",
    "version": 3
   },
   "file_extension": ".py",
   "mimetype": "text/x-python",
   "name": "python",
   "nbconvert_exporter": "python",
   "pygments_lexer": "ipython3",
   "version": "3.12.7"
  }
 },
 "nbformat": 4,
 "nbformat_minor": 5
}
